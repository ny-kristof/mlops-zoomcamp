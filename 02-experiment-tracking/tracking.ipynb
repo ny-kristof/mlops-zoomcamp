{
 "cells": [
  {
   "cell_type": "code",
   "execution_count": 3,
   "id": "248e3f8a",
   "metadata": {},
   "outputs": [
    {
     "name": "stderr",
     "output_type": "stream",
     "text": [
      "2025/10/18 16:37:19 INFO mlflow.store.db.utils: Creating initial MLflow database tables...\n",
      "2025/10/18 16:37:19 INFO mlflow.store.db.utils: Updating database tables\n",
      "INFO  [alembic.runtime.migration] Context impl SQLiteImpl.\n",
      "INFO  [alembic.runtime.migration] Will assume non-transactional DDL.\n",
      "INFO  [alembic.runtime.migration] Context impl SQLiteImpl.\n",
      "INFO  [alembic.runtime.migration] Will assume non-transactional DDL.\n"
     ]
    }
   ],
   "source": [
    "from mlflow.tracking import MlflowClient\n",
    "\n",
    "MLFLOW_TRACKING_URI = \"sqlite:///mlflow.db\"\n",
    "\n",
    "client = MlflowClient(tracking_uri=MLFLOW_TRACKING_URI)"
   ]
  },
  {
   "cell_type": "code",
   "execution_count": 7,
   "id": "c7fabb57",
   "metadata": {},
   "outputs": [
    {
     "data": {
      "text/plain": [
       "[<Experiment: artifact_location='/workspaces/mlops-zoomcamp/02-experiment-tracking/mlruns/1', creation_time=1760793866099, experiment_id='1', last_update_time=1760793866099, lifecycle_stage='active', name='nyc-taxi-experiment', tags={}>,\n",
       " <Experiment: artifact_location='mlflow-artifacts:/0', creation_time=1760792788346, experiment_id='0', last_update_time=1760792788346, lifecycle_stage='active', name='Default', tags={}>]"
      ]
     },
     "execution_count": 7,
     "metadata": {},
     "output_type": "execute_result"
    }
   ],
   "source": [
    "client.search_experiments()"
   ]
  },
  {
   "cell_type": "code",
   "execution_count": 8,
   "id": "4bda332b",
   "metadata": {},
   "outputs": [],
   "source": [
    "from mlflow.entities import ViewType\n",
    "\n",
    "runs = client.search_runs(\n",
    "    experiment_ids='1',\n",
    "    filter_string=\"\",\n",
    "    run_view_type= ViewType.ACTIVE_ONLY,\n",
    "    max_results=5,\n",
    "    order_by=[\"metrics.rmse ASC\"]\n",
    ")"
   ]
  },
  {
   "cell_type": "code",
   "execution_count": 10,
   "id": "38643329",
   "metadata": {},
   "outputs": [
    {
     "data": {
      "text/plain": [
       "{'training_mean_squared_error': 33.12197690365432,\n",
       " 'training_mean_absolute_error': 3.9977648727899515,\n",
       " 'training_r2_score': 0.7486808173910673,\n",
       " 'training_root_mean_squared_error': 5.755169580790328,\n",
       " 'training_score': 0.7486808173910673,\n",
       " 'rmse': 6.785367779470775}"
      ]
     },
     "execution_count": 10,
     "metadata": {},
     "output_type": "execute_result"
    }
   ],
   "source": [
    "runs[0].data.metrics"
   ]
  },
  {
   "cell_type": "code",
   "execution_count": 13,
   "id": "57b3c8e9",
   "metadata": {},
   "outputs": [
    {
     "name": "stdout",
     "output_type": "stream",
     "text": [
      "run id: acc1b10601ed44f59bb3aede5fe25bea, rmse: 6.7854\n",
      "run id: 301db77b7c894b4e809141a56bcdd16d, rmse: 7.1821\n",
      "run id: 9ce5f33ff22c438599781a1e279cb1f1, rmse: 8.0688\n",
      "run id: 4a234a0177b94910b5ad8f9969022066, rmse: 823.6240\n",
      "run id: 8c160778e94848d493dc1f9e1af21efc, rmse: Unknown\n"
     ]
    }
   ],
   "source": [
    "for run in runs:\n",
    "    rmse = run.data.metrics.get('rmse')\n",
    "    if rmse is not None:\n",
    "        print(f\"run id: {run.info.run_id}, rmse: {rmse:.4f}\")\n",
    "    else:\n",
    "        print(f\"run id: {run.info.run_id}, rmse: Unknown\")"
   ]
  },
  {
   "cell_type": "code",
   "execution_count": 14,
   "id": "0ed18dc4",
   "metadata": {},
   "outputs": [],
   "source": [
    "import mlflow\n",
    "\n",
    "mlflow.set_tracking_uri(MLFLOW_TRACKING_URI)"
   ]
  },
  {
   "cell_type": "code",
   "execution_count": 15,
   "id": "3941d8a4",
   "metadata": {},
   "outputs": [
    {
     "name": "stderr",
     "output_type": "stream",
     "text": [
      "2025/10/18 16:53:35 INFO mlflow.store.db.utils: Creating initial MLflow database tables...\n",
      "2025/10/18 16:53:35 INFO mlflow.store.db.utils: Updating database tables\n",
      "INFO  [alembic.runtime.migration] Context impl SQLiteImpl.\n",
      "INFO  [alembic.runtime.migration] Will assume non-transactional DDL.\n",
      "Registered model 'nyc-taxi-regressor' already exists. Creating a new version of this model...\n",
      "2025/10/18 16:53:35 WARNING mlflow.tracking._model_registry.fluent: Run with id acc1b10601ed44f59bb3aede5fe25bea has no artifacts at artifact path 'model', registering model based on models:/m-5d9d4a3fc095472c9bab8993a2670e0c instead\n",
      "Created version '3' of model 'nyc-taxi-regressor'.\n"
     ]
    },
    {
     "data": {
      "text/plain": [
       "<ModelVersion: aliases=[], creation_timestamp=1760806415200, current_stage='None', deployment_job_state=None, description=None, last_updated_timestamp=1760806415200, metrics=None, model_id=None, name='nyc-taxi-regressor', params=None, run_id='acc1b10601ed44f59bb3aede5fe25bea', run_link=None, source='models:/m-5d9d4a3fc095472c9bab8993a2670e0c', status='READY', status_message=None, tags={}, user_id=None, version=3>"
      ]
     },
     "execution_count": 15,
     "metadata": {},
     "output_type": "execute_result"
    }
   ],
   "source": [
    "run_id = \"acc1b10601ed44f59bb3aede5fe25bea\"\n",
    "model_uri = f\"runs:/{run_id}/model\"\n",
    "mlflow.register_model(model_uri=model_uri, name=\"nyc-taxi-regressor\")"
   ]
  },
  {
   "cell_type": "code",
   "execution_count": 17,
   "id": "e3c8a5ab",
   "metadata": {},
   "outputs": [
    {
     "name": "stderr",
     "output_type": "stream",
     "text": [
      "/tmp/ipykernel_64968/1481491681.py:2: FutureWarning: ``mlflow.tracking.client.MlflowClient.get_latest_versions`` is deprecated since 2.9.0. Model registry stages will be removed in a future major release. To learn more about the deprecation of model registry stages, see our migration guide here: https://mlflow.org/docs/latest/model-registry.html#migrating-from-stages\n",
      "  client.get_latest_versions(name=model_name)\n"
     ]
    },
    {
     "data": {
      "text/plain": [
       "[<ModelVersion: aliases=[], creation_timestamp=1760806415200, current_stage='None', deployment_job_state=None, description=None, last_updated_timestamp=1760806415200, metrics=None, model_id=None, name='nyc-taxi-regressor', params=None, run_id='acc1b10601ed44f59bb3aede5fe25bea', run_link=None, source='models:/m-5d9d4a3fc095472c9bab8993a2670e0c', status='READY', status_message=None, tags={}, user_id=None, version=3>]"
      ]
     },
     "execution_count": 17,
     "metadata": {},
     "output_type": "execute_result"
    }
   ],
   "source": [
    "model_name = \"nyc-taxi-regressor\"\n",
    "client.get_latest_versions(name=model_name)"
   ]
  },
  {
   "cell_type": "code",
   "execution_count": null,
   "id": "3b89a558",
   "metadata": {},
   "outputs": [],
   "source": []
  }
 ],
 "metadata": {
  "kernelspec": {
   "display_name": "conda-env",
   "language": "python",
   "name": "python3"
  },
  "language_info": {
   "codemirror_mode": {
    "name": "ipython",
    "version": 3
   },
   "file_extension": ".py",
   "mimetype": "text/x-python",
   "name": "python",
   "nbconvert_exporter": "python",
   "pygments_lexer": "ipython3",
   "version": "3.12.12"
  }
 },
 "nbformat": 4,
 "nbformat_minor": 5
}
